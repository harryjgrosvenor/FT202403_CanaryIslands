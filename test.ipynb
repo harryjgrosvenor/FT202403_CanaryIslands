{
 "cells": [
  {
   "cell_type": "code",
   "execution_count": 2,
   "id": "15265df4-4c95-4223-a889-0e7eded0728c",
   "metadata": {},
   "outputs": [],
   "source": [
    "name = \"harryjgrosvenor\""
   ]
  },
  {
   "cell_type": "code",
   "execution_count": 3,
   "id": "bd645b28-c6ed-42a0-bc86-e13c53d4d68b",
   "metadata": {},
   "outputs": [
    {
     "name": "stdout",
     "output_type": "stream",
     "text": [
      "harryjgrosvenor\n"
     ]
    }
   ],
   "source": [
    "print(name)"
   ]
  },
  {
   "cell_type": "code",
   "execution_count": null,
   "id": "114f841b-e679-4f33-81a6-f21e84a1795b",
   "metadata": {},
   "outputs": [],
   "source": []
  }
 ],
 "metadata": {
  "kernelspec": {
   "display_name": "FT202403_CanaryIslands",
   "language": "python",
   "name": "ft202403_canaryislands"
  },
  "language_info": {
   "codemirror_mode": {
    "name": "ipython",
    "version": 3
   },
   "file_extension": ".py",
   "mimetype": "text/x-python",
   "name": "python",
   "nbconvert_exporter": "python",
   "pygments_lexer": "ipython3",
   "version": "3.11.8"
  }
 },
 "nbformat": 4,
 "nbformat_minor": 5
}
